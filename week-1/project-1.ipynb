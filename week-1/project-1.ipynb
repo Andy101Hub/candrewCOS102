{
 "cells": [
  {
   "cell_type": "code",
   "execution_count": 2,
   "id": "37cd47a1-7cb7-4d80-bffa-ed125205bea7",
   "metadata": {},
   "outputs": [
    {
     "name": "stdout",
     "output_type": "stream",
     "text": [
      "2.3\n"
     ]
    }
   ],
   "source": [
    "# assigning variables to the programme\n",
    "P = 2\n",
    "R = 3\n",
    "T = 5\n",
    "\n",
    "\n",
    "# calculating simple interest\n",
    "A = P * (1 + (R / 100) * T)\n",
    "\n",
    "print(A)\n"
   ]
  },
  {
   "cell_type": "code",
   "execution_count": 15,
   "id": "16b1942d-a6d7-4ca6-afbf-8574bdf43682",
   "metadata": {},
   "outputs": [
    {
     "name": "stdout",
     "output_type": "stream",
     "text": [
      "14\n"
     ]
    }
   ],
   "source": [
    "# assigning variables to the programme\n",
    "P = 2\n",
    "R = 3\n",
    "T = 5\n",
    "n = 2\n",
    "\n",
    "\n",
    "# calculating compound interest\n",
    "A = P * (1 + int(R / n)) ^ (n * T)\n",
    "\n",
    "print(A)\n",
    "\n"
   ]
  },
  {
   "cell_type": "code",
   "execution_count": 24,
   "id": "ad3a1b0d-f680-4790-a051-7903cd744974",
   "metadata": {},
   "outputs": [
    {
     "name": "stdout",
     "output_type": "stream",
     "text": [
      "60.0\n"
     ]
    }
   ],
   "source": [
    "# assigning variables to the programme\n",
    "P = 1\n",
    "R = 4\n",
    "T = 3\n",
    "n = 2\n",
    "M = 5\n",
    "t = 6\n",
    "\n",
    "#calculating annual plan\n",
    "A = P * M * T *(1 + int(R/n) ^ (n * t) -1) / int(R/n)\n",
    "\n",
    "print(A)\n"
   ]
  },
  {
   "cell_type": "code",
   "execution_count": null,
   "id": "76f4a648-9844-4158-8761-cdfe75112021",
   "metadata": {},
   "outputs": [],
   "source": []
  },
  {
   "cell_type": "code",
   "execution_count": null,
   "id": "57e4ca15-9271-4798-9dd1-d33f9ee3cf37",
   "metadata": {},
   "outputs": [],
   "source": []
  }
 ],
 "metadata": {
  "kernelspec": {
   "display_name": "Python 3 (ipykernel)",
   "language": "python",
   "name": "python3"
  },
  "language_info": {
   "codemirror_mode": {
    "name": "ipython",
    "version": 3
   },
   "file_extension": ".py",
   "mimetype": "text/x-python",
   "name": "python",
   "nbconvert_exporter": "python",
   "pygments_lexer": "ipython3",
   "version": "3.11.7"
  }
 },
 "nbformat": 4,
 "nbformat_minor": 5
}
