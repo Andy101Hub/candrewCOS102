{
 "cells": [
  {
   "cell_type": "code",
   "execution_count": 21,
   "id": "eb9f924f-6067-4d8f-9ed3-c3693d25aa0b",
   "metadata": {},
   "outputs": [],
   "source": [
    "import csv\n",
    "import tkinter as tk\n",
    "\n",
    "\n",
    "def display_data():\n",
    "\n",
    "    text_area.delete(1.0, tk.END)  # Clear the text area before displaying new data\n",
    "\n",
    "def submit():\n",
    "  name = user_surname = surname_entry.get().lower()\n",
    "  dept = user_department = department_entry.get().lower()\n",
    "  found = False\n",
    "\n",
    "  with open(r'C:\\Users\\convy\\Desktop\\UNI\\2ND SEM\\COS102\\GIG-logistics.csv', 'r') as csv_file:\n",
    "        csv_reader = csv.DictReader(csv_file)\n",
    "\n",
    "        for line in csv_reader:\n",
    "            if line['DEPARTMENT'].lower() == dept:\n",
    "                text_area.insert(tk.END, f\"{line['SURNAME']}, {line['DEPARTMENT']}\\n\")\n",
    "                found = True\n",
    "  if not found:\n",
    "      text_area.insert(tk.END, \"User does not exist\\n\")\n",
    "\n",
    "\n",
    "\n",
    "# Create the Tkinter window\n",
    "\n",
    "root = tk.Tk()\n",
    "root.title(\"Home\")\n",
    "\n",
    "# Create a Text widget to display the data\n",
    "text_area = tk.Text(root)\n",
    "text_area.pack(fill=tk.BOTH, expand=True)\n",
    "\n",
    "# Button to trigger displaying the data\n",
    "surname_label = tk.Label(root, text=\"SURNAME:\")\n",
    "surname_label.pack()\n",
    "surname_entry = tk.Entry(root)\n",
    "surname_entry.pack()\n",
    "\n",
    "department_label = tk.Label(root, text=\"DEPARTMENT:\")\n",
    "department_label.pack()\n",
    "department_entry = tk.Entry(root)\n",
    "department_entry.pack()\n",
    "\n",
    "\n",
    "submit_button = tk.Button(root, text=\"Submit\", command=submit)\n",
    "submit_button.pack()\n",
    "\n",
    "\n",
    "# Run the Tkinter event loop\n",
    "root.mainloop()\n",
    "\n",
    "\n"
   ]
  },
  {
   "cell_type": "code",
   "execution_count": null,
   "id": "d1565531-3d79-4b10-b7e0-95025b33b79c",
   "metadata": {},
   "outputs": [],
   "source": []
  },
  {
   "cell_type": "code",
   "execution_count": null,
   "id": "a8c4671e-ff7d-4816-a26d-0e5fbfac8a47",
   "metadata": {},
   "outputs": [],
   "source": []
  },
  {
   "cell_type": "code",
   "execution_count": null,
   "id": "856857d6-6060-4fee-8d83-152b8a21718f",
   "metadata": {},
   "outputs": [],
   "source": []
  }
 ],
 "metadata": {
  "kernelspec": {
   "display_name": "Python 3 (ipykernel)",
   "language": "python",
   "name": "python3"
  },
  "language_info": {
   "codemirror_mode": {
    "name": "ipython",
    "version": 3
   },
   "file_extension": ".py",
   "mimetype": "text/x-python",
   "name": "python",
   "nbconvert_exporter": "python",
   "pygments_lexer": "ipython3",
   "version": "3.11.7"
  }
 },
 "nbformat": 4,
 "nbformat_minor": 5
}
