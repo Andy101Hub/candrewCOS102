{
 "cells": [
  {
   "cell_type": "code",
   "execution_count": 1,
   "id": "9a32a22e-27ef-4937-b05b-de31d83061c3",
   "metadata": {},
   "outputs": [
    {
     "name": "stdin",
     "output_type": "stream",
     "text": [
      "Enter your state of origin:  Bayelsa\n"
     ]
    },
    {
     "name": "stdout",
     "output_type": "stream",
     "text": [
      "Your state of origin is:  Bayelsa\n",
      "The first character is:  B\n",
      "The characters starting from 3rd to 5th are:  yel\n",
      "The string starting from the 3rd character is:  yelsa\n",
      "State of origin of two times BayelsaBayelsa\n"
     ]
    }
   ],
   "source": [
    "str = input(\"Enter your state of origin: \")\n",
    "\n",
    "print (\"Your state of origin is: \", str)\n",
    "print(\"The first character is: \", str[0])\n",
    "print(\"The characters starting from 3rd to 5th are: \", str[2:5])\n",
    "print(\"The string starting from the 3rd character is: \", str[2:])\n",
    "print(\"State of origin of two times\", str * 2)"
   ]
  },
  {
   "cell_type": "code",
   "execution_count": null,
   "id": "6f978d45-628a-4e37-909e-d1e2efc7fb7f",
   "metadata": {},
   "outputs": [],
   "source": [
    "\n"
   ]
  }
 ],
 "metadata": {
  "kernelspec": {
   "display_name": "Python 3 (ipykernel)",
   "language": "python",
   "name": "python3"
  },
  "language_info": {
   "codemirror_mode": {
    "name": "ipython",
    "version": 3
   },
   "file_extension": ".py",
   "mimetype": "text/x-python",
   "name": "python",
   "nbconvert_exporter": "python",
   "pygments_lexer": "ipython3",
   "version": "3.11.7"
  }
 },
 "nbformat": 4,
 "nbformat_minor": 5
}
